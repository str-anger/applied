{
 "cells": [
  {
   "cell_type": "markdown",
   "metadata": {},
   "source": [
    "# SVD"
   ]
  },
  {
   "cell_type": "code",
   "execution_count": 3,
   "metadata": {},
   "outputs": [],
   "source": [
    "from numpy.linalg import svd\n",
    "import numpy as np"
   ]
  },
  {
   "cell_type": "markdown",
   "metadata": {},
   "source": [
    "## Зададим какую-то разреженную матрицу"
   ]
  },
  {
   "cell_type": "code",
   "execution_count": 41,
   "metadata": {},
   "outputs": [],
   "source": [
    "M = np.zeros((18, 18))\n",
    "M[1, 1] = 1\n",
    "M[4, 5] = 2\n",
    "M[2, 8] = 3\n",
    "M[8, 2] = 1.5\n",
    "M[9, 9] = 1\n",
    "# print(M)"
   ]
  },
  {
   "cell_type": "code",
   "execution_count": 30,
   "metadata": {},
   "outputs": [],
   "source": [
    "def center(M):\n",
    "    avgs = np.sum(M, axis=0) / M.shape[0]\n",
    "    Mc = M - avgs\n",
    "    return Mc"
   ]
  },
  {
   "cell_type": "markdown",
   "metadata": {},
   "source": [
    "## Найдём главную компоненту в данных"
   ]
  },
  {
   "cell_type": "code",
   "execution_count": 39,
   "metadata": {},
   "outputs": [
    {
     "name": "stdout",
     "output_type": "stream",
     "text": [
      "[-0.05246018 -0.05941909  0.97074578 -0.05246018 -0.09869521 -0.05246018\n",
      " -0.05246018 -0.05246018 -0.07123003 -0.05941909 -0.05246018 -0.05246018\n",
      " -0.05246018 -0.05246018 -0.05246018 -0.05246018 -0.05246018 -0.05246018]\n"
     ]
    }
   ],
   "source": [
    "U, sigma, V = svd(center(M))\n",
    "pc1 = U[:, 0]\n",
    "print(pc1)"
   ]
  },
  {
   "cell_type": "markdown",
   "metadata": {},
   "source": [
    "## Немножечко изменим матрицу в одном месте (1 пользователь поставил оценку)"
   ]
  },
  {
   "cell_type": "code",
   "execution_count": 40,
   "metadata": {},
   "outputs": [
    {
     "name": "stdout",
     "output_type": "stream",
     "text": [
      "For rank 0 vectors dot product is 0.9999999999999988\n",
      "For rank 1 vectors dot product is -0.9987384057642474\n",
      "For rank 3 vectors dot product is -0.2990356836231113\n",
      "For rank 5 vectors dot product is -0.1250176171323237\n",
      "For rank 7 vectors dot product is 0.09606037030893441\n"
     ]
    }
   ],
   "source": [
    "for rank in [0, 1, 3, 5, 7]:\n",
    "    M[6, 5] = rank\n",
    "    U, sigma, V = svd(center(M))\n",
    "    pc2 = U[:, 0]\n",
    "    print(f\"For rank {rank} vectors dot product is {pc1.T @ pc2}\")"
   ]
  },
  {
   "cell_type": "markdown",
   "metadata": {},
   "source": [
    "<hr>\n",
    "\n",
    "# Bubu"
   ]
  },
  {
   "cell_type": "code",
   "execution_count": null,
   "metadata": {},
   "outputs": [],
   "source": [
    "from deeppavlov.core.common.file import read_json\n",
    "from deeppavlov import build_model, configs\n",
    "\n",
    "bert_config = read_json(configs.embedder.bert_embedder)\n",
    "bert_config['metadata']['variables']['BERT_PATH'] = 'C:/dev/models/rubert_cased_L-12_H-768_A-12_v2'\n",
    "\n",
    "m = build_model(bert_config)\n",
    "\n",
    "texts = ['Hi, i want my embedding.', 'And mine too, please!']\n",
    "tokens, token_embs, subtokens, subtoken_embs, sent_max_embs, sent_mean_embs, bert_pooler_outputs = m(texts)"
   ]
  }
 ],
 "metadata": {
  "kernelspec": {
   "display_name": "Python 3",
   "language": "python",
   "name": "python3"
  },
  "language_info": {
   "codemirror_mode": {
    "name": "ipython",
    "version": 3
   },
   "file_extension": ".py",
   "mimetype": "text/x-python",
   "name": "python",
   "nbconvert_exporter": "python",
   "pygments_lexer": "ipython3",
   "version": "3.8.3"
  }
 },
 "nbformat": 4,
 "nbformat_minor": 4
}
