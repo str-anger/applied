{
 "cells": [
  {
   "cell_type": "code",
   "execution_count": 1,
   "metadata": {},
   "outputs": [],
   "source": [
    "import numpy as np\n",
    "from matplotlib import pyplot as plt\n",
    "import time\n",
    "import random"
   ]
  },
  {
   "cell_type": "code",
   "execution_count": 2,
   "metadata": {},
   "outputs": [
    {
     "data": {
      "image/png": "[encoded data removed]",
      "text/plain": [
       "<Figure size 1080x720 with 1 Axes>"
      ]
     },
     "metadata": {
      "needs_background": "light"
     },
     "output_type": "display_data"
    }
   ],
   "source": [
    "def draw_crosses(h, w):\n",
    "    A = np.zeros((h, w))\n",
    "    for i, row in enumerate(A):\n",
    "        for j, cell in enumerate(row):\n",
    "            # crosses\n",
    "            if  -2 < ((j // 4) % (A.shape[0]) - i) < 1 and 1 < i < A.shape[0] - 2:\n",
    "                A[i, j] = 1       \n",
    "            if  0 < (A.shape[0] - ((j // 4) % (A.shape[0]) + i)) < 3 and 1 < i < A.shape[0] - 2:\n",
    "                A[i, j] = 1\n",
    "\n",
    "            # circles\n",
    "            # if (i - A.shape[0] / 2) ** 2 + ((j//4) % (A.shape[0]) - A.shape[0] / 2) ** 2 < .2 * (A.shape[0] ** 2):\n",
    "            #     A[i, j] = 1\n",
    "    return A\n",
    "\n",
    "A = draw_crosses(10, 400)\n",
    "plt.figure(figsize=(15,10))\n",
    "plt.imshow(A, cmap=\"gray\")\n",
    "plt.show()"
   ]
  },
  {
   "cell_type": "code",
   "execution_count": 3,
   "metadata": {},
   "outputs": [],
   "source": [
    "class Context:\n",
    "    def __init__(self, width, row=0):\n",
    "        self.DSU = dict()\n",
    "        self.last = [None] * width\n",
    "        self.width = width\n",
    "        self.row = row\n",
    "    \n",
    "    def eat(self, item):\n",
    "        # print(\"Bounding box ready:\", item.get_bbox())\n",
    "        item.dead = True\n",
    "        t, r, b, l = item.get_bbox()\n",
    "        A[r, t:b+1] = 2\n",
    "        A[l, t:b+1] = 2\n",
    "        A[l:r+1, t] = 2\n",
    "        A[l:r+1, b] = 2\n",
    "    \n",
    "    def reset(self):\n",
    "        for k, v in self.DSU.items():\n",
    "            v.touched = False\n",
    "    \n",
    "    def swallow(self):\n",
    "        for k, v in self.DSU.items():\n",
    "            # process untouched roots - print, draw and remove\n",
    "            if not v.touched and k == v.id(): self.eat(v)\n",
    "\n",
    "        to_remove = set(k for k, v in self.DSU.items() if v.find().dead)                \n",
    "        for k in to_remove: del self.DSU[k]                \n",
    "    \n",
    "class Node:\n",
    "    def __init__(self, col, weight, context):\n",
    "        self.context = context\n",
    "        self.row = context.row\n",
    "        self.col = col\n",
    "        self.weight = weight\n",
    "        \n",
    "        self.touched = True\n",
    "        self.dead = False\n",
    "        \n",
    "        self.top = self.row\n",
    "        self.bottom = self.row\n",
    "        self.left = self.col\n",
    "        self.right = self.col\n",
    "\n",
    "        self.context.DSU[self.id()] = self\n",
    "    \n",
    "    def parent(self):\n",
    "        return self.context.DSU[self.id()]\n",
    "    \n",
    "    def find(self, origin=None):\n",
    "        if origin is None: origin = self\n",
    "        self.touched = True    \n",
    "        self.top = min(origin.top, self.top)\n",
    "        self.bottom = max(origin.bottom, self.bottom)\n",
    "        self.left = min(origin.left, self.left)\n",
    "        self.right = max(origin.right, self.right)\n",
    "        if self.id() != self.parent().id():\n",
    "            self.context.DSU[self.id()] = self.parent().find(origin)\n",
    "        return self.context.DSU[self.id()]\n",
    "\n",
    "    def union(self, other):\n",
    "        i, j = self.find(), other.find()\n",
    "        if i.id() != j.id():\n",
    "            self.context.DSU[i.id()] = j\n",
    "            # update sizes\n",
    "            self.find(other)\n",
    "            other.find(self)\n",
    "\n",
    "    def connected(self, other):\n",
    "        return self.find().id() == other.find().id()\n",
    "\n",
    "    def id(self):\n",
    "        return self.row * self.context.width + self.col\n",
    "    \n",
    "    def get_bbox(self):\n",
    "        return [self.top, self.right, self.bottom, self.left]\n",
    "            \n",
    "    def __str__(self):\n",
    "        return \"[{}-{}, {}-{}][{}{}]\".format(\n",
    "                    self.top, self.bottom, self.left, self.right, \n",
    "                    \"+\" if self.dead else \" \", \n",
    "                    \"T\" if self.touched else \" \")\n",
    "    \n",
    "    def __repr__(self):\n",
    "        return str(self)"
   ]
  },
  {
   "cell_type": "code",
   "execution_count": 4,
   "metadata": {},
   "outputs": [],
   "source": [
    "def connect(node, neighbours, context):\n",
    "    for neighbour in neighbours:\n",
    "        if neighbour is not None:\n",
    "            node.union(neighbour)\n",
    "    \n",
    "def process(line, context):\n",
    "    assert context.width == len(line), \"Line size don't match\"\n",
    "    context.reset()\n",
    "    r = [None] * context.width\n",
    "    for col in range(context.width):\n",
    "        if line[col] > 0:\n",
    "            r[col] = Node(col, line[col], context)\n",
    "            connectivity = [context.last[col]] if i == 0 else [context.last[col], r[col-1]]\n",
    "            connect(r[col], connectivity, context)\n",
    "    context.last = r\n",
    "    context.row += 1"
   ]
  },
  {
   "cell_type": "code",
   "execution_count": 5,
   "metadata": {},
   "outputs": [
    {
     "data": {
      "image/png": "[encoded data removed]",
      "text/plain": [
       "<Figure size 1080x720 with 1 Axes>"
      ]
     },
     "metadata": {
      "needs_background": "light"
     },
     "output_type": "display_data"
    }
   ],
   "source": [
    "context = Context(A.shape[0])\n",
    "\n",
    "for i in range(A.shape[1]):\n",
    "    process(A[:, i], context)\n",
    "    context.swallow()\n",
    "    \n",
    "process([0] * A.shape[0], context)\n",
    "context.swallow()\n",
    "    \n",
    "plt.figure(figsize=(15,10))\n",
    "plt.imshow(A, cmap=\"gray\")\n",
    "plt.show()"
   ]
  },
  {
   "cell_type": "code",
   "execution_count": 9,
   "metadata": {},
   "outputs": [
    {
     "name": "stdout",
     "output_type": "stream",
     "text": [
      "4 / 81 | 8 / 81 | 12 / 81 | 16 / 81 | 20 / 81 | 24 / 81 | 28 / 81 | 32 / 81 | 36 / 81 | 40 / 81 | 44 / 81 | 48 / 81 | 52 / 81 | 56 / 81 | 60 / 81 | 64 / 81 | 68 / 81 | 72 / 81 | 76 / 81 | 80 / 81 | 4 / 81 | 8 / 81 | 12 / 81 | 16 / 81 | 20 / 81 | 24 / 81 | 28 / 81 | 32 / 81 | 36 / 81 | 40 / 81 | 44 / 81 | 48 / 81 | 52 / 81 | 56 / 81 | 60 / 81 | 64 / 81 | 68 / 81 | 72 / 81 | 76 / 81 | 80 / 81 | 4 / 81 | 8 / 81 | 12 / 81 | 16 / 81 | 20 / 81 | 24 / 81 | 28 / 81 | 32 / 81 | 36 / 81 | 40 / 81 | 44 / 81 | 48 / 81 | 52 / 81 | 56 / 81 | 60 / 81 | 64 / 81 | 68 / 81 | 72 / 81 | 76 / 81 | 80 / 81 | "
     ]
    },
    {
     "data": {
      "image/png": "[encoded data removed]",
      "text/plain": [
       "<Figure size 648x288 with 1 Axes>"
      ]
     },
     "metadata": {
      "needs_background": "light"
     },
     "output_type": "display_data"
    }
   ],
   "source": [
    "#  Cross test\n",
    "repetitions = 5\n",
    "\n",
    "def fillA(W, times):\n",
    "    return draw_crosses(W, W * 4 * times)\n",
    "\n",
    "result = {}\n",
    "maxtimes = 81\n",
    "\n",
    "plt.figure(figsize=(9,4))\n",
    "\n",
    "widths = {24: '-', 16: '-.', 8: ':'}\n",
    "colors = {24: 'black', 16: '#333333', 8: '#666666'}\n",
    "\n",
    "for W, style in widths.items():\n",
    "    for times in range(4, maxtimes, 4):\n",
    "        durations = []\n",
    "        AA = fillA(W, times)\n",
    "        for rep in range(repetitions):\n",
    "            A = AA.copy() \n",
    "            context = Context(A.shape[0])\n",
    "\n",
    "            start = time.perf_counter()\n",
    "\n",
    "            for j in range(A.shape[1]):\n",
    "                process(A[:, j], context)\n",
    "                context.swallow()    \n",
    "            context.swallow()\n",
    "\n",
    "            finish = time.perf_counter()\n",
    "\n",
    "            durations.append(finish - start)\n",
    "\n",
    "        result[A.shape[0] * A.shape[1]] = min(durations)\n",
    "        print(times, \"/\", maxtimes, end=\" | \")\n",
    "\n",
    "    cross_test_results = sorted(result.items()) # sorted by key, return a list of tuples\n",
    "    x, y = zip(*cross_test_results) # unpack a list of pairs into two tuples\n",
    "\n",
    "    plt.xlabel(\"площадь изображения, px\")\n",
    "    plt.ylabel(\"время работы, с\")\n",
    "    plt.plot(x, y, color=colors[W], linewidth=3, linestyle=style, label=\"ширина {}\".format(W))\n",
    "\n",
    "\n",
    "plt.legend()\n",
    "plt.show()"
   ]
  },
  {
   "cell_type": "code",
   "execution_count": 10,
   "metadata": {},
   "outputs": [
    {
     "name": "stdout",
     "output_type": "stream",
     "text": [
      "4 / 101 | 8 / 101 | 12 / 101 | 16 / 101 | 20 / 101 | 24 / 101 | 28 / 101 | 32 / 101 | 36 / 101 | 40 / 101 | 44 / 101 | 48 / 101 | 52 / 101 | 56 / 101 | 60 / 101 | 64 / 101 | 68 / 101 | 72 / 101 | 76 / 101 | 80 / 101 | 84 / 101 | 88 / 101 | 92 / 101 | 96 / 101 | 100 / 101 | "
     ]
    },
    {
     "data": {
      "image/png": "[encoded data removed]",
      "text/plain": [
       "<Figure size 432x288 with 1 Axes>"
      ]
     },
     "metadata": {
      "needs_background": "light"
     },
     "output_type": "display_data"
    }
   ],
   "source": [
    "# Noise test\n",
    "W = 10\n",
    "repetitions = 50\n",
    "retries = 3\n",
    "\n",
    "def fillA_random(W, times, thr):\n",
    "    A = np.zeros((W, W * times))\n",
    "    for i in range(A.shape[0]):\n",
    "        for j in range(W):\n",
    "            A[i, j] = (random.random() < thr) * 1\n",
    "    return A\n",
    "\n",
    "result = {}\n",
    "maxtimes = 101\n",
    "\n",
    "for times in range(4, maxtimes, 4):\n",
    "    for rep in range(repetitions):\n",
    "        A = fillA_random(W, times, (rep + repetitions) / 3.0 / repetitions)\n",
    "        durations = []\n",
    "        for i in range(retries):\n",
    "            context = Context(A.shape[0])\n",
    "            start = time.perf_counter()\n",
    "            for i in range(A.shape[1]):\n",
    "                process(A[:, i], context)\n",
    "                context.swallow()    \n",
    "            context.swallow()\n",
    "            finish = time.perf_counter()\n",
    "            durations.append(finish - start)\n",
    "        if A.shape[0] * A.shape[1] not in result:\n",
    "            result[A.shape[0] * A.shape[1]] = []\n",
    "        result[A.shape[0] * A.shape[1]].append(min(durations))\n",
    "    print(times, \"/\", maxtimes, end=\" | \")\n",
    "    \n",
    "lists = sorted([(k, sum(v) / repetitions) for k, v in result.items()]) # sorted by key, return a list of tuples\n",
    "\n",
    "x, y = zip(*lists) # unpack a list of pairs into two tuples\n",
    "\n",
    "plt.xlabel(\"площадь изображения, px\")\n",
    "plt.ylabel(\"время работы, с\")\n",
    "plt.plot(x, y, color='black', linewidth=3)\n",
    "plt.show()"
   ]
  }
 ],
 "metadata": {
  "kernelspec": {
   "display_name": "Python 3",
   "language": "python",
   "name": "python3"
  },
  "language_info": {
   "codemirror_mode": {
    "name": "ipython",
    "version": 3
   },
   "file_extension": ".py",
   "mimetype": "text/x-python",
   "name": "python",
   "nbconvert_exporter": "python",
   "pygments_lexer": "ipython3",
   "version": "3.7.1"
  }
 },
 "nbformat": 4,
 "nbformat_minor": 2
}
