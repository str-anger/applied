{
 "cells": [
  {
   "cell_type": "code",
   "execution_count": 1,
   "metadata": {},
   "outputs": [],
   "source": [
    "model_path = \"./models/vosk-model-ru-0.10\""
   ]
  },
  {
   "cell_type": "code",
   "execution_count": 2,
   "metadata": {},
   "outputs": [],
   "source": [
    "import json, os, sys, wave\n",
    "import matplotlib.pyplot as plt\n",
    "from vosk import Model, KaldiRecognizer\n",
    "import pyaudio"
   ]
  },
  {
   "cell_type": "code",
   "execution_count": 8,
   "metadata": {},
   "outputs": [],
   "source": [
    "def record(player, seconds=7):\n",
    "    leng = 22050 * seconds // 1024\n",
    "    stream = player.open(input=True, format=pyaudio.paInt16, channels=1, rate=22050, \n",
    "                         input_device_index=2,\n",
    "                         frames_per_buffer=leng)\n",
    "    data = stream.read(leng)\n",
    "    stream.stop_stream()\n",
    "    stream.close()\n",
    "    return data"
   ]
  },
  {
   "cell_type": "code",
   "execution_count": 4,
   "metadata": {},
   "outputs": [],
   "source": [
    "def recognize(model, frames):\n",
    "    rec = KaldiRecognizer(model, 22050)\n",
    "    words = []\n",
    "    if rec.AcceptWaveform(frames): words = rec.Result()\n",
    "    else: words = rec.PartialResult()\n",
    "    jsons = [json.loads(w) for w in words]\n",
    "    texts = [w['text'] for w in jsons if 'text' in w and w['text']]\n",
    "    text = \"\\n\".join(texts)\n",
    "    return text"
   ]
  },
  {
   "cell_type": "code",
   "execution_count": null,
   "metadata": {},
   "outputs": [],
   "source": [
    "pya = pyaudio.PyAudio()\n",
    "frames = record(pya, 7)\n",
    "plt.plot(frames)\n",
    "plt.show()"
   ]
  },
  {
   "cell_type": "code",
   "execution_count": null,
   "metadata": {},
   "outputs": [],
   "source": [
    "model = Model(model_path)\n",
    "recognize(model, frames)"
   ]
  }
 ],
 "metadata": {
  "kernelspec": {
   "display_name": "Python 3",
   "language": "python",
   "name": "python3"
  },
  "language_info": {
   "codemirror_mode": {
    "name": "ipython",
    "version": 3
   },
   "file_extension": ".py",
   "mimetype": "text/x-python",
   "name": "python",
   "nbconvert_exporter": "python",
   "pygments_lexer": "ipython3",
   "version": "3.8.5"
  }
 },
 "nbformat": 4,
 "nbformat_minor": 4
}
