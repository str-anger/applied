{
 "cells": [
  {
   "cell_type": "code",
   "execution_count": 1,
   "metadata": {
    "jupyter": {
     "source_hidden": true
    }
   },
   "outputs": [],
   "source": [
    "import json, os, sys, wave, pyaudio, wikipedia, numpy as np, matplotlib.pyplot as plt, pyttsx3\n",
    "from vosk import Model, KaldiRecognizer\n",
    "from natasha import *\n",
    "from IPython.display import HTML, clear_output, IFrame\n",
    "from yandex_music.client import Client\n",
    "\n",
    "kaldi_recognizer = KaldiRecognizer(\n",
    "        Model(\"C:/dev/postnauka/models/vosk-model-ru-0.10\"), 22050)\n",
    "wikipedia.set_lang(\"ru\")\n",
    "\n",
    "segmenter = Segmenter()\n",
    "emb = NewsEmbedding()\n",
    "morph_tagger = NewsMorphTagger(emb)\n",
    "syntax_parser = NewsSyntaxParser(emb)\n",
    "ner_tagger = NewsNERTagger(emb)\n",
    "morph_vocab = MorphVocab()\n",
    "names_extractor = NamesExtractor(morph_vocab)\n",
    "\n",
    "mus_client = Client()\n",
    "engine = pyttsx3.init()\n",
    "voices = engine.getProperty('voices')\n",
    "for voice in voices:\n",
    "    if 'RU' in voice.id:\n",
    "        engine.setProperty('voice', voice.id)\n",
    "        break\n",
    "clear_output()\n",
    "pya = pyaudio.PyAudio()"
   ]
  },
  {
   "cell_type": "code",
   "execution_count": 2,
   "metadata": {
    "jupyter": {
     "source_hidden": true
    }
   },
   "outputs": [],
   "source": [
    "def записать(player, seconds=7):\n",
    "    print(\"Начинаем запись!\", end='\\t')\n",
    "    leng = (22050 * seconds)\n",
    "    stream = player.open(input=True, format=pyaudio.paInt16, channels=1, rate=22050,\n",
    "                         frames_per_buffer=leng)\n",
    "    data = stream.read(leng)\n",
    "    stream.stop_stream()\n",
    "    stream.close()\n",
    "    print(\"Записали!\")\n",
    "    return data\n",
    "\n",
    "def распознать(frames):\n",
    "    global kaldi_recognizer\n",
    "    words = {}\n",
    "    if kaldi_recognizer.AcceptWaveform(frames): words = json.loads(kaldi_recognizer.Result())\n",
    "    else: words = json.loads(kaldi_recognizer.PartialResult())\n",
    "    text = words['text'] if 'text' in words else words ['partial']\n",
    "    return text"
   ]
  },
  {
   "cell_type": "code",
   "execution_count": 3,
   "metadata": {
    "jupyter": {
     "source_hidden": true
    }
   },
   "outputs": [],
   "source": [
    "def синтаксический_анализ(text):\n",
    "    doc = Doc(text)\n",
    "    doc.segment(segmenter)\n",
    "    doc.tag_morph(morph_tagger)\n",
    "    doc.tag_ner(ner_tagger)\n",
    "    for token in doc.tokens: token.lemmatize(morph_vocab)   \n",
    "    doc.parse_syntax(syntax_parser)\n",
    "    doc.sents[0].syntax.print()\n",
    "    action, dep = None, []\n",
    "    for tok in doc.tokens:\n",
    "        if tok.pos == 'VERB' or tok.rel == 'root': \n",
    "            action = tok\n",
    "            break\n",
    "    for tok in doc.tokens:\n",
    "        if tok != action: dep.append(tok)\n",
    "    return action.lemma if action else None, [d.text for d in dep]\n",
    "\n",
    "def embed(words):\n",
    "    n = 0\n",
    "    e = None\n",
    "    for word in words:\n",
    "        if word in emb:\n",
    "            n += 1\n",
    "            if e is None: e = emb.get(word)\n",
    "            else: e = e + emb.get(word)\n",
    "    if n > 0: return e / n\n",
    "    else: return None\n",
    "    \n",
    "def интент(action):\n",
    "    actions = {\n",
    "        'включить': 'play',\n",
    "        'играть': 'play',\n",
    "        'поставить': 'play',\n",
    "        'прочитать': 'wiki',\n",
    "        'рассказать': 'wiki',\n",
    "        'кто': 'wiki',\n",
    "        'какой': 'wiki'\n",
    "    }\n",
    "    res = []\n",
    "    for k in actions:\n",
    "        res.append([emb.sim(action, k), actions[k], k])\n",
    "    res.sort()\n",
    "    print(\"Интент:\", res[-1])\n",
    "    return res[-1][1]"
   ]
  },
  {
   "cell_type": "code",
   "execution_count": 4,
   "metadata": {
    "jupyter": {
     "source_hidden": true
    }
   },
   "outputs": [],
   "source": [
    "def play(text):\n",
    "    searchres = mus_client.search(text)\n",
    "    clear_output()\n",
    "    display(IFrame(f\"https://music.yandex.ru/iframe/#track/{searchres['best']['result']['id']}\", width=400, height=80))\n",
    "\n",
    "def wiki(text):\n",
    "    wikipedia.set_lang(\"ru\")\n",
    "    summ = wikipedia.summary(wikipedia.search(text)[0], sentences=3)\n",
    "    print(summ)\n",
    "    engine.say(summ)\n",
    "    engine.runAndWait()"
   ]
  },
  {
   "cell_type": "code",
   "execution_count": 7,
   "metadata": {},
   "outputs": [
    {
     "name": "stdout",
     "output_type": "stream",
     "text": [
      "Начинаем запись!\tЗаписали!\n"
     ]
    },
    {
     "data": {
      "image/png": "[encoded data removed]",
      "text/plain": [
       "<Figure size 936x144 with 1 Axes>"
      ]
     },
     "metadata": {
      "needs_background": "light"
     },
     "output_type": "display_data"
    },
    {
     "name": "stdout",
     "output_type": "stream",
     "text": [
      "Вы сказали: сыграй город под подошвой\n",
      "     сыграй   \n",
      "┌─── город    \n",
      "│ ┌► под      case\n",
      "└►└─ подошвой nmod\n",
      "действие = сыграй\tобъект = город под подошвой\n",
      "Интент: [-0.027169278, 'play', 'играть']\n"
     ]
    }
   ],
   "source": [
    "сигнал = записать(pya, 5)\n",
    "plt.figure(figsize=(13, 2))\n",
    "plt.plot(np.frombuffer(сигнал, np.int16))\n",
    "plt.show()\n",
    "text = распознать(сигнал)\n",
    "print(\"Вы сказали:\", text)\n",
    "что_делать, с_чем = синтаксический_анализ(text)\n",
    "print(f\"действие = {что_делать}\\tобъект = {' '.join(с_чем)}\")\n",
    "intent_ = интент(что_делать)"
   ]
  },
  {
   "cell_type": "code",
   "execution_count": 8,
   "metadata": {},
   "outputs": [
    {
     "data": {
      "text/html": [
       "\n",
       "        <iframe\n",
       "            width=\"400\"\n",
       "            height=\"80\"\n",
       "            src=\"https://music.yandex.ru/iframe/#track/28420997\"\n",
       "            frameborder=\"0\"\n",
       "            allowfullscreen\n",
       "        ></iframe>\n",
       "        "
      ],
      "text/plain": [
       "<IPython.lib.display.IFrame at 0x1a3bc4fab50>"
      ]
     },
     "metadata": {},
     "output_type": "display_data"
    }
   ],
   "source": [
    "if intent_ == 'wiki': wiki(' '.join(с_чем))\n",
    "elif intent_ == 'play': play(' '.join(с_чем))"
   ]
  }
 ],
 "metadata": {
  "kernelspec": {
   "display_name": "Python 3",
   "language": "python",
   "name": "python3"
  },
  "language_info": {
   "codemirror_mode": {
    "name": "ipython",
    "version": 3
   },
   "file_extension": ".py",
   "mimetype": "text/x-python",
   "name": "python",
   "nbconvert_exporter": "python",
   "pygments_lexer": "ipython3",
   "version": "3.8.3"
  }
 },
 "nbformat": 4,
 "nbformat_minor": 4
}
