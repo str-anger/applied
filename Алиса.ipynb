{
 "cells": [
  {
   "cell_type": "code",
   "execution_count": 1,
   "metadata": {},
   "outputs": [],
   "source": [
    "model_path = \"C:/dev/postnauka/models/vosk-model-ru-0.10\""
   ]
  },
  {
   "cell_type": "code",
   "execution_count": 2,
   "metadata": {},
   "outputs": [],
   "source": [
    "import json, os, sys, wave, pyaudio\n",
    "import matplotlib.pyplot as plt\n",
    "from vosk import Model, KaldiRecognizer\n",
    "model = Model(model_path)\n",
    "recognizer = KaldiRecognizer(model, 22050)"
   ]
  },
  {
   "cell_type": "code",
   "execution_count": 3,
   "metadata": {},
   "outputs": [],
   "source": [
    "def record(player, seconds=7):\n",
    "    leng = (22050 * seconds)\n",
    "    stream = player.open(input=True, format=pyaudio.paInt16, channels=1, rate=22050,\n",
    "                         frames_per_buffer=leng)\n",
    "    data = stream.read(leng)\n",
    "    stream.stop_stream()\n",
    "    stream.close()\n",
    "    return data"
   ]
  },
  {
   "cell_type": "code",
   "execution_count": 4,
   "metadata": {},
   "outputs": [],
   "source": [
    "def recognize(model, frames):\n",
    "    global recognizer\n",
    "    words = {}\n",
    "    if recognizer.AcceptWaveform(frames): words = json.loads(recognizer.Result())\n",
    "    else: words = json.loads(recognizer.PartialResult())\n",
    "    text = words['text'] if 'text' in words else words ['partial']\n",
    "    return text"
   ]
  },
  {
   "cell_type": "code",
   "execution_count": 5,
   "metadata": {},
   "outputs": [
    {
     "name": "stdout",
     "output_type": "stream",
     "text": [
      "Начинаем запись!\n",
      "Записали!\n"
     ]
    }
   ],
   "source": [
    "pya = pyaudio.PyAudio()\n",
    "print(\"Начинаем запись!\")\n",
    "frames = record(pya, 5)\n",
    "print(\"Записали!\")"
   ]
  },
  {
   "cell_type": "code",
   "execution_count": 7,
   "metadata": {},
   "outputs": [
    {
     "name": "stdout",
     "output_type": "stream",
     "text": [
      "Начинаем распознавать!\n",
      "Распознали!\n",
      "Вы сказали: алиса принеси кофе\n"
     ]
    }
   ],
   "source": [
    "print(\"Начинаем распознавать!\")\n",
    "text = recognize(model, frames)\n",
    "print(\"Распознали!\")\n",
    "print(\"Вы сказали:\", text)"
   ]
  }
 ],
 "metadata": {
  "kernelspec": {
   "display_name": "Python 3",
   "language": "python",
   "name": "python3"
  },
  "language_info": {
   "codemirror_mode": {
    "name": "ipython",
    "version": 3
   },
   "file_extension": ".py",
   "mimetype": "text/x-python",
   "name": "python",
   "nbconvert_exporter": "python",
   "pygments_lexer": "ipython3",
   "version": "3.8.3"
  }
 },
 "nbformat": 4,
 "nbformat_minor": 4
}
