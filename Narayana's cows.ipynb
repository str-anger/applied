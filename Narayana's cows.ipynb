{
 "cells": [
  {
   "cell_type": "code",
   "execution_count": 1,
   "metadata": {},
   "outputs": [
    {
     "name": "stdout",
     "output_type": "stream",
     "text": [
      "Symbolic roots:\n",
      "1/3 + (-1/2 - sqrt(3)*I/2)*(sqrt(93)/18 + 29/54)**(1/3) + 1/(9*(-1/2 - sqrt(3)*I/2)*(sqrt(93)/18 + 29/54)**(1/3))\n",
      "1/3 + 1/(9*(-1/2 + sqrt(3)*I/2)*(sqrt(93)/18 + 29/54)**(1/3)) + (-1/2 + sqrt(3)*I/2)*(sqrt(93)/18 + 29/54)**(1/3)\n",
      "1/(9*(sqrt(93)/18 + 29/54)**(1/3)) + 1/3 + (sqrt(93)/18 + 29/54)**(1/3)\n",
      "\n",
      "Real complex roots:\n",
      "-0.23279 - 0.79255*I\n",
      "-0.23279 + 0.79255*I\n",
      "1.4656\n",
      "\n",
      "*If value is real, the numbers are complex conjugate:  0.682327270507813\n",
      "r=0.82603, phi=-1.8564786405301084\n"
     ]
    }
   ],
   "source": [
    "# https://en.wikipedia.org/wiki/Narayana_number - we are looking for explicit formula\n",
    "from sympy import *\n",
    "import cmath\n",
    "\n",
    "def Narayana(power):\n",
    "    if power < 4:\n",
    "        return 1\n",
    "    return Narayana(power - 1) + Narayana(power - 3)\n",
    "\n",
    "\n",
    "# use sympy to solve equations - or you can use Worlfram Alpha\n",
    "q, a, b, c, n = symbols('q a b c n')\n",
    "# for recurrence relation Fn = F(n-1) + F(n-3) \n",
    "# characteristic equation will be q^3 - q^2 - 1 = 0\n",
    "r1, r2, r3 = solve(Eq(q**3 - q ** 2 - 1, 0), q)\n",
    "print(\"Symbolic roots:\", r1, r2, r3, sep='\\n')\n",
    "\n",
    "r1, r2, r3 = r1.evalf(5), r2.evalf(5), r3.evalf(5)  # 5 digits after the dot\n",
    "print(\"\\nReal complex roots:\", r1, r2, r3, sep='\\n')\n",
    "\n",
    "# we have complex root. Any changes? Yes!\n",
    "# there are always pairs of complex conjugate roots, for them\n",
    "# different form: r^n*cos(na) + r^n*sin(na), where \"r\" is norm, and \"a\" is angle\n",
    "print(\"\\n*If value is real, the numbers are complex conjugate: \", (r1 * r2).evalf())\n",
    "\n",
    "r, phi = abs(r1), cmath.phase(r1)\n",
    "print(\"r={}, phi={}\".format(r, phi))"
   ]
  },
  {
   "cell_type": "code",
   "execution_count": 2,
   "metadata": {},
   "outputs": [
    {
     "name": "stdout",
     "output_type": "stream",
     "text": [
      "General eq: 0.82603**n*a*cos(1.85647864053011*n) - 0.82603**n*b*sin(1.85647864053011*n) + 1.4656**n*c\n",
      "Coefficients: {a: -0.417237400558535, b: -0.367637817555421, c: 0.417236162830731}\n",
      "F = 0.367637817555421*0.82603**n*sin(1.85647864053011*n) - 0.417237400558535*0.82603**n*cos(1.85647864053011*n) + 0.417236162830731*1.4656**n\n"
     ]
    }
   ],
   "source": [
    "f_gen = a * r ** n * cos(n * phi) + b * r ** n * sin(n * phi) + c * r3 ** n\n",
    "print(\"General eq:\", f_gen)\n",
    "\n",
    "system = [\n",
    "    Eq(f_gen.subs(n, 1), 1),\n",
    "    Eq(f_gen.subs(n, 2), 1),\n",
    "    Eq(f_gen.subs(n, 3), 1)\n",
    "]\n",
    "solution = solve(system, [a, b, c])\n",
    "print(\"Coefficients:\", solution)\n",
    "# replace symbols with numbers\n",
    "f = f_gen.subs(solution)\n",
    "print(\"F =\", f)"
   ]
  },
  {
   "cell_type": "code",
   "execution_count": 3,
   "metadata": {},
   "outputs": [
    {
     "name": "stdout",
     "output_type": "stream",
     "text": [
      "1=1\t1=1\t1=1\t2=2\t3=3\t4=4\t6=6\t9=9\t13=13\t19=19\t28=28\t41=41\t60=60\t88=88\t129=129\t189=189\t277=277\t406=406\t595=595\t"
     ]
    }
   ],
   "source": [
    "def F(power):\n",
    "    return round(f.subs(n, power).evalf())\n",
    "\n",
    "for i in range(1, 20):\n",
    "    print(F(i), '=', Narayana(i), sep='', end='\\t')"
   ]
  }
 ],
 "metadata": {
  "kernelspec": {
   "display_name": "Python 3",
   "language": "python",
   "name": "python3"
  },
  "language_info": {
   "codemirror_mode": {
    "name": "ipython",
    "version": 3
   },
   "file_extension": ".py",
   "mimetype": "text/x-python",
   "name": "python",
   "nbconvert_exporter": "python",
   "pygments_lexer": "ipython3",
   "version": "3.7.1"
  }
 },
 "nbformat": 4,
 "nbformat_minor": 2
}
